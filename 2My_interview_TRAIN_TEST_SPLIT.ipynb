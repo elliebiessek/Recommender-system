{
 "cells": [
  {
   "cell_type": "markdown",
   "metadata": {},
   "source": [
    "<div class=\"alert alert-success alertinfo\" style=\"margin-top: 0px\">\n",
    "<h1>  Part 2. Train test/split </h1>    \n",
    "</div>"
   ]
  },
  {
   "cell_type": "markdown",
   "metadata": {},
   "source": [
    "# 1. Imports"
   ]
  },
  {
   "cell_type": "code",
   "execution_count": 1,
   "metadata": {},
   "outputs": [],
   "source": [
    "# Turning off warnings\n",
    "import warnings\n",
    "warnings.filterwarnings('ignore')"
   ]
  },
  {
   "cell_type": "code",
   "execution_count": 2,
   "metadata": {},
   "outputs": [],
   "source": [
    "# Data Manipulation\n",
    "import sys\n",
    "import random\n",
    "import pandas as pd\n",
    "import numpy as np\n",
    "\n",
    "# Visualization \n",
    "import matplotlib.pyplot as plt\n",
    "import matplotlib.patches as mpatches\n",
    "import seaborn as sns\n",
    "plt.style.use('seaborn-whitegrid')\n",
    "\n",
    "# Import data\n",
    "clean_data=pd.read_csv(r\"C:\\Users\\giuse\\Desktop\\job seeking\\DATAscience_interview\\clean_data.csv\")"
   ]
  },
  {
   "cell_type": "markdown",
   "metadata": {},
   "source": [
    "# 2. Data View"
   ]
  },
  {
   "cell_type": "code",
   "execution_count": 3,
   "metadata": {},
   "outputs": [
    {
     "data": {
      "text/html": [
       "<div>\n",
       "<style scoped>\n",
       "    .dataframe tbody tr th:only-of-type {\n",
       "        vertical-align: middle;\n",
       "    }\n",
       "\n",
       "    .dataframe tbody tr th {\n",
       "        vertical-align: top;\n",
       "    }\n",
       "\n",
       "    .dataframe thead th {\n",
       "        text-align: right;\n",
       "    }\n",
       "</style>\n",
       "<table border=\"1\" class=\"dataframe\">\n",
       "  <thead>\n",
       "    <tr style=\"text-align: right;\">\n",
       "      <th></th>\n",
       "      <th>USER_ID</th>\n",
       "      <th>CURRENCY</th>\n",
       "      <th>CURRENCY_IS_CRYPTO</th>\n",
       "      <th>GAME_TITLE</th>\n",
       "      <th>GAME_TYPE</th>\n",
       "      <th>GAME_PROVIDER</th>\n",
       "      <th>BET_AMOUNT_IN_CURRENCY</th>\n",
       "      <th>BET_AMOUNT_IN_EUR</th>\n",
       "      <th>BET_COUNT</th>\n",
       "    </tr>\n",
       "  </thead>\n",
       "  <tbody>\n",
       "    <tr>\n",
       "      <th>0</th>\n",
       "      <td>1</td>\n",
       "      <td>BTC</td>\n",
       "      <td>Y</td>\n",
       "      <td>Fire Lightning</td>\n",
       "      <td>slots</td>\n",
       "      <td>enigmatic</td>\n",
       "      <td>0.000050</td>\n",
       "      <td>0.472637</td>\n",
       "      <td>3.0</td>\n",
       "    </tr>\n",
       "    <tr>\n",
       "      <th>1</th>\n",
       "      <td>1</td>\n",
       "      <td>BTC</td>\n",
       "      <td>Y</td>\n",
       "      <td>Slotomon Go</td>\n",
       "      <td>slots</td>\n",
       "      <td>enigmatic</td>\n",
       "      <td>0.000015</td>\n",
       "      <td>0.151416</td>\n",
       "      <td>1.0</td>\n",
       "    </tr>\n",
       "    <tr>\n",
       "      <th>2</th>\n",
       "      <td>5</td>\n",
       "      <td>BTC</td>\n",
       "      <td>Y</td>\n",
       "      <td>Aztec Magic Deluxe</td>\n",
       "      <td>slots</td>\n",
       "      <td>enigmatic</td>\n",
       "      <td>0.001485</td>\n",
       "      <td>5.057532</td>\n",
       "      <td>33.0</td>\n",
       "    </tr>\n",
       "    <tr>\n",
       "      <th>3</th>\n",
       "      <td>5</td>\n",
       "      <td>BTC</td>\n",
       "      <td>Y</td>\n",
       "      <td>Bac Agin</td>\n",
       "      <td>card</td>\n",
       "      <td>asiagaming</td>\n",
       "      <td>0.024000</td>\n",
       "      <td>75.119760</td>\n",
       "      <td>1.0</td>\n",
       "    </tr>\n",
       "    <tr>\n",
       "      <th>4</th>\n",
       "      <td>5</td>\n",
       "      <td>BTC</td>\n",
       "      <td>Y</td>\n",
       "      <td>Book of Lords</td>\n",
       "      <td>slots</td>\n",
       "      <td>amatic</td>\n",
       "      <td>0.000200</td>\n",
       "      <td>0.683304</td>\n",
       "      <td>1.0</td>\n",
       "    </tr>\n",
       "  </tbody>\n",
       "</table>\n",
       "</div>"
      ],
      "text/plain": [
       "   USER_ID CURRENCY CURRENCY_IS_CRYPTO          GAME_TITLE GAME_TYPE  \\\n",
       "0        1      BTC                  Y      Fire Lightning     slots   \n",
       "1        1      BTC                  Y         Slotomon Go     slots   \n",
       "2        5      BTC                  Y  Aztec Magic Deluxe     slots   \n",
       "3        5      BTC                  Y            Bac Agin      card   \n",
       "4        5      BTC                  Y       Book of Lords     slots   \n",
       "\n",
       "  GAME_PROVIDER  BET_AMOUNT_IN_CURRENCY  BET_AMOUNT_IN_EUR  BET_COUNT  \n",
       "0     enigmatic                0.000050           0.472637        3.0  \n",
       "1     enigmatic                0.000015           0.151416        1.0  \n",
       "2     enigmatic                0.001485           5.057532       33.0  \n",
       "3    asiagaming                0.024000          75.119760        1.0  \n",
       "4        amatic                0.000200           0.683304        1.0  "
      ]
     },
     "execution_count": 3,
     "metadata": {},
     "output_type": "execute_result"
    }
   ],
   "source": [
    "clean_data.head()"
   ]
  },
  {
   "cell_type": "code",
   "execution_count": 4,
   "metadata": {},
   "outputs": [
    {
     "name": "stdout",
     "output_type": "stream",
     "text": [
      "There are 984359 rows and 9 columns.\n",
      "          39326 unique users.\n",
      "          2569 unique game titles.\n"
     ]
    }
   ],
   "source": [
    "# Data info\n",
    "print('There are {} rows and {} columns.'.format(clean_data.shape[0],clean_data.shape[1]))\n",
    "print('          {} unique users.'.format(len(clean_data['USER_ID'].unique())))\n",
    "print('          {} unique game titles.'.format(len(clean_data['GAME_TITLE'].unique())))"
   ]
  },
  {
   "cell_type": "markdown",
   "metadata": {},
   "source": [
    "# 3. Train/Test split"
   ]
  },
  {
   "cell_type": "markdown",
   "metadata": {},
   "source": [
    "<font size=\"4\">In Data Science we normally split the data into 80% training set (for the machine learning to learn on) and 20% test set (for us to check accuracy of our recommendations). Since our chosen approach is acollaborative filltering we need to more careful about how we are spliting the data.  The problem we are facing is that we have to make sure that every user and a game is represented in our training set, because of that we are going to split the data using following methodology.</font>\n",
    "\n",
    "- <font size=\"4\"> For each user we randomly select one observation</font>\n",
    "- <font size=\"4\"> We merge the results of the previous two steps together. This should produce a set of observations that covers all of the users and all of the games.</font>\n",
    "- <font size=\"4\"> We calculate how many observations we need to fill our training set up to 80% and we randomly select enough of the remaining observations to fill the training set.</font>\n",
    "- <font size=\"4\"> The remaining observations are our testing set.</font>  "
   ]
  },
  {
   "cell_type": "code",
   "execution_count": 5,
   "metadata": {},
   "outputs": [
    {
     "name": "stdout",
     "output_type": "stream",
     "text": [
      "We need 787487 observations for our training set.\n",
      "We need 196872 observations for our test set.\n",
      "We should have 39326 unique users\n",
      "We should have 2569 unique games\n"
     ]
    }
   ],
   "source": [
    "print('We need {} observations for our training set.'.format(int(0.8*clean_data.shape[0])))\n",
    "print('We need {} observations for our test set.'.format(clean_data.shape[0] - int(0.8*clean_data.shape[0])))\n",
    "print('We should have {} unique users'.format(clean_data['USER_ID'].nunique()))\n",
    "print('We should have {} unique games'.format(clean_data['GAME_TITLE'].nunique()))"
   ]
  },
  {
   "cell_type": "code",
   "execution_count": 6,
   "metadata": {},
   "outputs": [
    {
     "name": "stdout",
     "output_type": "stream",
     "text": [
      "We have 787487 observations in our training set\n",
      "We have 196872 observations in our test set\n",
      "We have 39326 unique users\n",
      "We have 2569 unique games\n"
     ]
    }
   ],
   "source": [
    "clean_data['unique']=clean_data.index\n",
    "# selecting one random observation for each user\n",
    "users = list(np.sort(clean_data.USER_ID.unique()))\n",
    "train = pd.DataFrame()\n",
    "train = pd.DataFrame()\n",
    "for i in users:\n",
    "    train = train.append(clean_data[clean_data.USER_ID == i].sample(1))\n",
    "test = pd.concat([clean_data,train]).drop_duplicates(keep=False)\n",
    "\n",
    "# from the remaining data, selecting one random observation for each game that hasn't been selected\n",
    "list1 = train['GAME_TITLE'].unique()\n",
    "list2 = clean_data['GAME_TITLE'].unique()\n",
    "list3 = list(set(list2) - set(list1)) \n",
    "for i in list3:\n",
    "    train = train.append(test[test.GAME_TITLE == i].sample(1))\n",
    "test = pd.concat([clean_data,train]).drop_duplicates(keep=False) \n",
    "\n",
    "# defining how much more observations we needto makeup 80% of the data\n",
    "additional = int(0.8*clean_data.shape[0]) - train.shape[0]\n",
    "    \n",
    "# adding additional observations atrandom\n",
    "train = train.append(test.sample(additional))\n",
    "test = pd.concat([clean_data,train]).drop_duplicates(keep=False)    \n",
    "\n",
    "# checking the size\n",
    "print('We have {} observations in our training set'.format(train.shape[0]))\n",
    "print('We have {} observations in our test set'.format(test.shape[0]))\n",
    "print('We have {} unique users'.format(train['USER_ID'].nunique()))\n",
    "print('We have {} unique games'.format(train['GAME_TITLE'].nunique()))"
   ]
  },
  {
   "cell_type": "code",
   "execution_count": 7,
   "metadata": {},
   "outputs": [],
   "source": [
    "# Saving data\n",
    "train.to_csv('train.csv', index=False)\n",
    "test.to_csv('test.csv', index=False)"
   ]
  },
  {
   "cell_type": "code",
   "execution_count": null,
   "metadata": {},
   "outputs": [],
   "source": []
  }
 ],
 "metadata": {
  "kernelspec": {
   "display_name": "Python 3",
   "language": "python",
   "name": "python3"
  },
  "language_info": {
   "codemirror_mode": {
    "name": "ipython",
    "version": 3
   },
   "file_extension": ".py",
   "mimetype": "text/x-python",
   "name": "python",
   "nbconvert_exporter": "python",
   "pygments_lexer": "ipython3",
   "version": "3.7.7"
  }
 },
 "nbformat": 4,
 "nbformat_minor": 4
}
